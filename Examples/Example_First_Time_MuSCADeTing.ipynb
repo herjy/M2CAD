{
 "cells": [
  {
   "cell_type": "markdown",
   "metadata": {},
   "source": [
    "# Demo of MuSCADeT User starting point"
   ]
  },
  {
   "cell_type": "code",
   "execution_count": null,
   "metadata": {},
   "outputs": [],
   "source": [
    "#Import libraries\n",
    "import astropy.io.fits as pf\n",
    "import numpy as np\n",
    "import matplotlib.pyplot as plt\n",
    "from MuSCADeT import MCA as MC\n",
    "from MuSCADeT  import colour_subtraction as cs"
   ]
  },
  {
   "cell_type": "markdown",
   "metadata": {},
   "source": [
    "Initialise your data with a cube with size (nb,n1,n2) where nb is the number of bands in your observations"
   ]
  },
  {
   "cell_type": "code",
   "execution_count": null,
   "metadata": {},
   "outputs": [],
   "source": [
    "cube = ##To be filed"
   ]
  },
  {
   "cell_type": "markdown",
   "metadata": {},
   "source": [
    "Setting up the parameters for MuSCADeT and running."
   ]
  },
  {
   "cell_type": "code",
   "execution_count": null,
   "metadata": {},
   "outputs": [],
   "source": [
    "## If A is unknown, set it to zero.\n",
    "Aprior = 0 \n",
    "\n",
    "## Input parameters\n",
    "pca = 'PCA'     #Estimation of the mixing coefficients from PCA. If different from PCA it will use the array provided in Aprior\n",
    "n = 100        #Number of iterations: increase if the separation is not good enough!\n",
    "nsig = 5        #Threshold in units of noise standard deviation: Can be lowered down to 3 but 5 should be fine.\n",
    "ns = 2          #Number of sources\n",
    "angle = 10      #Resolution angle for the PCA colour estimation (start with 15 then adjust if necessary)\n",
    "alpha = [0,0]   #If automated estimation of PCA coefficients fails, chose adequate alphas. See readme for more details\n",
    "plot = False     #option to plot the PCA coefficients of the SEDs in the image. This option is usefull if one wants to make sure that SEDs have been correctly estimated. In automated mode, keep this option at False. In case the SEDs have to be refined, set plot to True, identify the features (alignements) on the plot that stand for different SEDs and use this to give values for alpha. (see readme.)\n",
    "\n",
    "# Running MuSCADeT\n",
    "S,A = MCA.mMCA(cube, Aprior, nsig,n, PCA=[ns,angle], mode=pca, alpha = alpha)\n"
   ]
  },
  {
   "cell_type": "markdown",
   "metadata": {},
   "source": [
    "Display of the results. The first plot shows the model and a comparison with the original image. The model is simply `AS` with `A` and `S` as estimated by MuSCADeT."
   ]
  },
  {
   "cell_type": "code",
   "execution_count": null,
   "metadata": {},
   "outputs": [],
   "source": [
    "# Models as extracted by MuSCADeT for display\n",
    "model = np.dot(A,S.reshape([A.shape[1], n1*n2])).reshape(cube.shape)\n",
    "\n",
    "normodel = cs.asinh_norm(model, Q=100)\n",
    "normcube = cs.asinh_norm(cube, Q = 100)\n",
    "normres = cs.asinh_norm(cube-model, Q = 10)\n",
    "plt.figure(figsize = (15, 5))\n",
    "plt.subplot(131)\n",
    "plt.title('model')\n",
    "plt.imshow(normodel)\n",
    "plt.subplot(132)\n",
    "plt.title('data')\n",
    "plt.imshow(normcube)\n",
    "plt.subplot(133)\n",
    "plt.title('Residuals')\n",
    "plt.imshow(normres)\n",
    "plt.show()\n"
   ]
  },
  {
   "cell_type": "markdown",
   "metadata": {},
   "source": [
    "This sequence of plots shows each component, with what the data looks like once the components are removed, i.e. `Y-AiSi`."
   ]
  },
  {
   "cell_type": "code",
   "execution_count": null,
   "metadata": {},
   "outputs": [],
   "source": [
    "for i in range(A.shape[1]):\n",
    "    C = A[:,i, np.newaxis, np.newaxis]*S[np.newaxis,i,:,:]\n",
    "    normC = cs.asinh_norm(C, Q = 100)\n",
    "    normCres = cs.asinh_norm(cube-C, Q = 50)\n",
    "    plt.figure(figsize = (15, 5))\n",
    "    plt.subplot(131)\n",
    "    plt.title('data')\n",
    "    plt.imshow(normcube)\n",
    "    plt.subplot(132)\n",
    "    plt.title('component ' + str(i))\n",
    "    plt.imshow(normC)\n",
    "    plt.subplot(133)\n",
    "    plt.title('data - component ' + str(i))\n",
    "    plt.imshow(normCres)\n",
    "    plt.show()"
   ]
  },
  {
   "cell_type": "code",
   "execution_count": null,
   "metadata": {},
   "outputs": [],
   "source": []
  },
  {
   "cell_type": "code",
   "execution_count": null,
   "metadata": {},
   "outputs": [],
   "source": []
  }
 ],
 "metadata": {
  "kernelspec": {
   "display_name": "Python 3",
   "language": "python",
   "name": "python3"
  },
  "language_info": {
   "codemirror_mode": {
    "name": "ipython",
    "version": 3
   },
   "file_extension": ".py",
   "mimetype": "text/x-python",
   "name": "python",
   "nbconvert_exporter": "python",
   "pygments_lexer": "ipython3",
   "version": "3.7.3"
  }
 },
 "nbformat": 4,
 "nbformat_minor": 2
}
