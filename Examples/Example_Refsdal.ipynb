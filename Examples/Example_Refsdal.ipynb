{
 "cells": [
  {
   "cell_type": "markdown",
   "metadata": {},
   "source": [
    "# Demo of MuSCADeT on the Refsdal galaxy"
   ]
  },
  {
   "cell_type": "code",
   "execution_count": null,
   "metadata": {},
   "outputs": [],
   "source": [
    "#Import libraries\n",
    "import astropy.io.fits as pf\n",
    "import numpy as np\n",
    "import matplotlib.pyplot as plt\n",
    "from MuSCADeT import MCA\n",
    "from MuSCADeT  import colour_subtraction as cs"
   ]
  },
  {
   "cell_type": "markdown",
   "metadata": {},
   "source": [
    "At this point, the data are loaded. "
   ]
  },
  {
   "cell_type": "code",
   "execution_count": null,
   "metadata": {},
   "outputs": [],
   "source": [
    "## Openning data cube\n",
    "cube = pf.open('./Simu_Refsdal_big/Cube.fits')[0].data\n",
    "nb,n1,n2 = np.shape(cube)\n",
    "#Here A was estimated from colours of other galaxies in the field\n",
    "Aprior =pf.open('Simu_Refsdal_big/Estimated_A_PCA.fits')[0].data"
   ]
  },
  {
   "cell_type": "markdown",
   "metadata": {},
   "source": [
    "Setting up the parameters for MuSCADeT and running."
   ]
  },
  {
   "cell_type": "code",
   "execution_count": null,
   "metadata": {},
   "outputs": [],
   "source": [
    "##param\n",
    "pca = 'noPCA'   #Estimation of the mixing coefficients from PCA. If different from PCA it will use the array provided in Aprior\n",
    "n = 2000        #Number of iterations\n",
    "nsig = 5        #Threshold in units of noise standard deviation\n",
    "ns = 2          #Number of sources\n",
    "angle = 50      #Resolution angle for the PCA colour estimation (start with 15 then adjust empirically)\n",
    "\n",
    "\n",
    "## Running MuSCADeT\n",
    "S,A = MCA.mMCA(cube, Aprior, nsig,n, PCA=[ns,angle], mode=pca, harder = 1, lvl=6)\n"
   ]
  },
  {
   "cell_type": "markdown",
   "metadata": {},
   "source": [
    "Display of the results. The first plot shows the model and a comparison with the original image. The model is simply `AS` with `A` and `S` as estimated by MuSCADeT."
   ]
  },
  {
   "cell_type": "code",
   "execution_count": null,
   "metadata": {},
   "outputs": [],
   "source": [
    "# Models as extracted by MuSCADeT for display\n",
    "model = np.dot(A,S.reshape([A.shape[1], n1*n2])).reshape(cube.shape)\n",
    "\n",
    "normodel = cs.asinh_norm(model, Q=100, range = 1)\n",
    "normcube = cs.asinh_norm((cube), Q = 100, range = 1)\n",
    "normres = cs.asinh_norm(cube-model, Q = 10, range = 1)\n",
    "plt.figure(figsize = (15, 5))\n",
    "plt.subplot(131)\n",
    "plt.title('model')\n",
    "plt.imshow(normodel)\n",
    "plt.subplot(132)\n",
    "plt.title('data')\n",
    "plt.imshow(normcube)\n",
    "plt.subplot(133)\n",
    "plt.title('Residuals')\n",
    "plt.imshow(normres)\n",
    "plt.show()\n"
   ]
  },
  {
   "cell_type": "markdown",
   "metadata": {},
   "source": [
    "This sequence of plots shows each component, with what the data looks like once the components are removed, i.e. `Y-AiSi`."
   ]
  },
  {
   "cell_type": "code",
   "execution_count": null,
   "metadata": {},
   "outputs": [],
   "source": [
    "for i in range(A.shape[1]):\n",
    "    C = A[:,i, np.newaxis, np.newaxis]*S[np.newaxis,i,:,:]\n",
    "    normC = cs.asinh_norm(C, Q = 100, range = 1)\n",
    "    normCres = cs.asinh_norm((cube-C), Q = 100, range = 1)\n",
    "    plt.figure(figsize = (15, 5))\n",
    "    plt.subplot(131)\n",
    "    plt.title('data')\n",
    "    plt.imshow(normcube)\n",
    "    plt.subplot(132)\n",
    "    plt.title('component ' + str(i))\n",
    "    plt.imshow(normC)\n",
    "    plt.subplot(133)\n",
    "    plt.title('data - component ' + str(i))\n",
    "    plt.imshow(normCres)\n",
    "    plt.show()"
   ]
  },
  {
   "cell_type": "code",
   "execution_count": null,
   "metadata": {},
   "outputs": [],
   "source": []
  },
  {
   "cell_type": "code",
   "execution_count": null,
   "metadata": {},
   "outputs": [],
   "source": []
  }
 ],
 "metadata": {
  "kernelspec": {
   "display_name": "Python 3",
   "language": "python",
   "name": "python3"
  },
  "language_info": {
   "codemirror_mode": {
    "name": "ipython",
    "version": 3
   },
   "file_extension": ".py",
   "mimetype": "text/x-python",
   "name": "python",
   "nbconvert_exporter": "python",
   "pygments_lexer": "ipython3",
   "version": "3.7.3"
  }
 },
 "nbformat": 4,
 "nbformat_minor": 2
}
