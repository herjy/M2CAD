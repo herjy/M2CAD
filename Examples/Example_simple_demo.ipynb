{
 "cells": [
  {
   "cell_type": "markdown",
   "metadata": {},
   "source": [
    "# simple simulated blend"
   ]
  },
  {
   "cell_type": "code",
   "execution_count": 1,
   "metadata": {},
   "outputs": [],
   "source": [
    "#Import libraries\n",
    "import astropy.io.fits as pf\n",
    "import numpy as np\n",
    "import matplotlib.pyplot as plt\n",
    "from MuSCADeT import MCA\n",
    "from MuSCADeT  import colour_subtraction as cs"
   ]
  },
  {
   "cell_type": "markdown",
   "metadata": {},
   "source": [
    "At this point, the data are loaded. "
   ]
  },
  {
   "cell_type": "code",
   "execution_count": 2,
   "metadata": {},
   "outputs": [],
   "source": [
    "## Openning data cube\n",
    "cube = pf.open('./Simu_simple/Cube.fits')[0].data\n",
    "nb,n1,n2 = np.shape(cube)"
   ]
  },
  {
   "cell_type": "markdown",
   "metadata": {},
   "source": [
    "Setting up the parameters for MuSCADeT and running."
   ]
  },
  {
   "cell_type": "code",
   "execution_count": null,
   "metadata": {},
   "outputs": [
    {
     "name": "stdout",
     "output_type": "stream",
     "text": [
      "mode PCA\n",
      "svd going on\n",
      "svd done\n",
      "2117.766021419595\n",
      "0\n",
      "threshold from MOM 1216.7852447444284\n",
      "threshold from MOM 387.3851579699523\n",
      "threshold from MOM 148.35196556881618\n",
      "threshold from MOM 141.57607062065128\n",
      "threshold from MOM 133.48192777360137\n",
      "threshold from MOM 126.16329872943403\n",
      "threshold from MOM 119.24924576883801\n",
      "10\n",
      "threshold from MOM 112.79700630683783\n",
      "threshold from MOM 106.6734410198447\n",
      "threshold from MOM 100.8171973730862\n",
      "threshold from MOM 95.28200939812442\n",
      "threshold from MOM 90.0963287633497\n",
      "threshold from MOM 85.18361495437814\n",
      "threshold from MOM 80.59179533697338\n",
      "threshold from MOM 76.23993195406783\n",
      "threshold from MOM 71.95567784121921\n",
      "threshold from MOM 67.6285178771261\n",
      "20\n",
      "threshold from MOM 63.72320512488007\n",
      "threshold from MOM 60.463854585173834\n",
      "threshold from MOM 57.20056071842958\n",
      "threshold from MOM 54.15603898539704\n",
      "threshold from MOM 51.2328149913695\n",
      "threshold from MOM 48.505720616417506\n",
      "threshold from MOM 45.85445107072128\n",
      "threshold from MOM 43.49096540038535\n",
      "threshold from MOM 41.05162580429721\n",
      "threshold from MOM 38.79875654392036\n",
      "30\n",
      "threshold from MOM 36.70381865929213\n",
      "threshold from MOM 34.618031207390736\n",
      "threshold from MOM 32.766372219538866\n",
      "threshold from MOM 30.889413225576686\n",
      "threshold from MOM 29.210442243626314\n",
      "threshold from MOM 27.585607009643585\n",
      "threshold from MOM 26.045083494425917\n",
      "threshold from MOM 25.670424904796633\n",
      "40\n",
      "50\n",
      "60\n",
      "70\n",
      "80\n",
      "90\n"
     ]
    }
   ],
   "source": [
    "## Input parameters\n",
    "pca = 'PCA'     #Estimation of the mixing coefficients from PCA. If different from PCA it will use the array provided in Aprior\n",
    "n = 100        #Number of iterations\n",
    "nsig = 5        #Threshold in units of noise standard deviation\n",
    "ns = 2          #Number of sources\n",
    "angle = 10      #Resolution angle for the PCA colour estimation (start with 15 then adjust empirically)\n",
    "\n",
    "## Running MuSCADeT\n",
    "S,A = MCA.mMCA(cube, 0, nsig,n, PCA=[ns,angle], mode=pca, lvl = 6)"
   ]
  },
  {
   "cell_type": "markdown",
   "metadata": {},
   "source": [
    "Display of the results. The first plot shows the model and a comparison with the original image. The model is simply `AS` with `A` and `S` as estimated by MuSCADeT."
   ]
  },
  {
   "cell_type": "code",
   "execution_count": null,
   "metadata": {},
   "outputs": [],
   "source": [
    "plt.plot(A)\n",
    "# Models as extracted by MuSCADeT for display\n",
    "model = np.dot(A,S.reshape([A.shape[1], n1*n2])).reshape(cube.shape)\n",
    "\n",
    "normodel = cs.asinh_norm(model, Q=100, range = 1)\n",
    "normcube = cs.asinh_norm(cube, Q = 100, range = 1)\n",
    "normres = cs.asinh_norm(cube-model, Q = 10, range = 1)\n",
    "plt.figure(figsize = (15, 5))\n",
    "plt.subplot(131)\n",
    "plt.title('model')\n",
    "plt.imshow(normodel)\n",
    "plt.subplot(132)\n",
    "plt.title('data')\n",
    "plt.imshow(normcube)\n",
    "plt.subplot(133)\n",
    "plt.title('Residuals')\n",
    "plt.imshow(normres)\n",
    "plt.show()\n"
   ]
  },
  {
   "cell_type": "markdown",
   "metadata": {},
   "source": [
    "This sequence of plots shows each component, with what the data looks like once the components are removed, i.e. `Y-AiSi`."
   ]
  },
  {
   "cell_type": "code",
   "execution_count": null,
   "metadata": {},
   "outputs": [],
   "source": [
    "for i in range(A.shape[1]):\n",
    "    C = A[:,i, np.newaxis, np.newaxis]*S[np.newaxis,i,:,:]\n",
    "    normC = cs.asinh_norm(C, Q = 100, range = 1)\n",
    "    normCres = cs.asinh_norm(cube-C, Q = 50, range = 1)\n",
    "    plt.figure(figsize = (15, 5))\n",
    "    plt.subplot(131)\n",
    "    plt.title('data')\n",
    "    plt.imshow(normcube)\n",
    "    plt.subplot(132)\n",
    "    plt.title('component ' + str(i))\n",
    "    plt.imshow(normC)\n",
    "    plt.subplot(133)\n",
    "    plt.title('data - component ' + str(i))\n",
    "    plt.imshow(normCres)\n",
    "    plt.show()"
   ]
  },
  {
   "cell_type": "code",
   "execution_count": null,
   "metadata": {},
   "outputs": [],
   "source": []
  },
  {
   "cell_type": "code",
   "execution_count": null,
   "metadata": {},
   "outputs": [],
   "source": []
  }
 ],
 "metadata": {
  "kernelspec": {
   "display_name": "Python 3",
   "language": "python",
   "name": "python3"
  },
  "language_info": {
   "codemirror_mode": {
    "name": "ipython",
    "version": 3
   },
   "file_extension": ".py",
   "mimetype": "text/x-python",
   "name": "python",
   "nbconvert_exporter": "python",
   "pygments_lexer": "ipython3",
   "version": "3.7.3"
  }
 },
 "nbformat": 4,
 "nbformat_minor": 2
}
